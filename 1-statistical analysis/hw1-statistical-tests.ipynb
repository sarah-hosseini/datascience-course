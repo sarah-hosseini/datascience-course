{
 "cells": [
  {
   "cell_type": "code",
   "execution_count": 1,
   "id": "37e0f056",
   "metadata": {},
   "outputs": [],
   "source": [
    "def barPlot(df, feature):\n",
    "    # Exploration of this feature\n",
    "    subclasses = df[feature].value_counts()\n",
    "    \n",
    "    # Plotting the distribution of this feature\n",
    "    plt.figure(figsize=(10, 6))\n",
    "    plt.bar(subclasses.index, subclasses.values)\n",
    "    plt.xlabel(feature)\n",
    "    plt.ylabel('Count')\n",
    "    plt.title('Distribution of ' + feature)\n",
    "    plt.xticks(subclasses.index, subclasses.index)\n",
    "    plt.show()\n",
    "\n",
    "def plot(df, feature):\n",
    "    plt.figure(figsize=(10, 6))\n",
    "    sns.histplot(data=df, x=feature)\n",
    "    plt.xlabel(feature)\n",
    "    plt.ylabel('Frequency')\n",
    "    plt.title('Distribution of'+feature)\n",
    "    plt.show()\n",
    "\n",
    "def describe_data_based_on_target(df, feature, target):\n",
    "    \n",
    "    print(df.groupby(feature)[target].describe())\n",
    "\n",
    "    # Analyzing the importance of overall quality\n",
    "    class_targets_means = df.groupby(feature)[target].mean().sort_values(ascending=False)\n",
    "    class_targets_medians = df.groupby(feature)[target].median().sort_values(ascending=False)\n",
    "\n",
    "    print(\"\\nMean \"+target+\" by \"+feature+\":\")\n",
    "    print(class_targets_means)\n",
    "    print(\"\\nMedian \"+target+\" by \"+feature+\":\")\n",
    "    print(class_targets_medians)\n",
    "\n",
    "def boxPlot(df, feature, target):\n",
    "    # Plotting the relationship between building class and target\n",
    "    plt.figure(figsize=(10, 6))\n",
    "    sns.boxplot(x=feature, y=target, data=df)\n",
    "    plt.title(feature+' vs ' + target)\n",
    "    plt.xlabel(feature)\n",
    "    plt.ylabel(target)\n",
    "    plt.show()\n",
    "\n",
    "def correlation(df, feature, target):\n",
    "    # Correlation analysis\n",
    "    correlation = df[feature].corr(df[target])\n",
    "    print(f\"The correlation between {feature} and {target} is: {correlation:.2f}\")"
   ]
  },
  {
   "cell_type": "markdown",
   "id": "2b8f5c61",
   "metadata": {},
   "source": [
    "## building class"
   ]
  },
  {
   "cell_type": "code",
   "execution_count": 7,
   "id": "3b5b5485",
   "metadata": {
    "scrolled": false
   },
   "outputs": [
    {
     "data": {
      "text/plain": [
       "Index(['Id', 'MSSubClass', 'MSZoning', 'LotFrontage', 'LotArea', 'Street',\n",
       "       'Alley', 'LotShape', 'LandContour', 'Utilities', 'LotConfig',\n",
       "       'LandSlope', 'Neighborhood', 'Condition1', 'Condition2', 'BldgType',\n",
       "       'HouseStyle', 'OverallQual', 'OverallCond', 'YearBuilt', 'YearRemodAdd',\n",
       "       'RoofStyle', 'RoofMatl', 'Exterior1st', 'Exterior2nd', 'MasVnrType',\n",
       "       'MasVnrArea', 'ExterQual', 'ExterCond', 'Foundation', 'BsmtQual',\n",
       "       'BsmtCond', 'BsmtExposure', 'BsmtFinType1', 'BsmtFinSF1',\n",
       "       'BsmtFinType2', 'BsmtFinSF2', 'BsmtUnfSF', 'TotalBsmtSF', 'Heating',\n",
       "       'HeatingQC', 'CentralAir', 'Electrical', '1stFlrSF', '2ndFlrSF',\n",
       "       'LowQualFinSF', 'GrLivArea', 'BsmtFullBath', 'BsmtHalfBath', 'FullBath',\n",
       "       'HalfBath', 'BedroomAbvGr', 'KitchenAbvGr', 'KitchenQual',\n",
       "       'TotRmsAbvGrd', 'Functional', 'Fireplaces', 'FireplaceQu', 'GarageType',\n",
       "       'GarageYrBlt', 'GarageFinish', 'GarageCars', 'GarageArea', 'GarageQual',\n",
       "       'GarageCond', 'PavedDrive', 'WoodDeckSF', 'OpenPorchSF',\n",
       "       'EnclosedPorch', '3SsnPorch', 'ScreenPorch', 'PoolArea', 'PoolQC',\n",
       "       'Fence', 'MiscFeature', 'MiscVal', 'MoSold', 'YrSold', 'SaleType',\n",
       "       'SaleCondition', 'SalePrice'],\n",
       "      dtype='object')"
      ]
     },
     "execution_count": 7,
     "metadata": {},
     "output_type": "execute_result"
    }
   ],
   "source": [
    "import pandas as pd\n",
    "import numpy as np\n",
    "import matplotlib.pyplot as plt\n",
    "import seaborn as sns\n",
    "from sklearn.preprocessing import LabelEncoder\n",
    "import scipy.stats as stats\n",
    "\n",
    "\n",
    "df = pd.read_csv('train.csv')\n",
    "df.columns"
   ]
  },
  {
   "cell_type": "code",
   "execution_count": 8,
   "id": "23758aee",
   "metadata": {},
   "outputs": [
    {
     "name": "stdout",
     "output_type": "stream",
     "text": [
      "number of unique values in col :\n",
      "Id =  1460\n",
      "-----> CATEGORICAL -----> MSSubClass =  15\n",
      "-----> CATEGORICAL -----> MSZoning =  5\n",
      "LotFrontage =  111\n",
      "LotArea =  1073\n",
      "-----> CATEGORICAL -----> Street =  2\n",
      "-----> CATEGORICAL -----> Alley =  3\n",
      "-----> CATEGORICAL -----> LotShape =  4\n",
      "-----> CATEGORICAL -----> LandContour =  4\n",
      "-----> CATEGORICAL -----> Utilities =  2\n",
      "-----> CATEGORICAL -----> LotConfig =  5\n",
      "-----> CATEGORICAL -----> LandSlope =  3\n",
      "Neighborhood =  25\n",
      "-----> CATEGORICAL -----> Condition1 =  9\n",
      "-----> CATEGORICAL -----> Condition2 =  8\n",
      "-----> CATEGORICAL -----> BldgType =  5\n",
      "-----> CATEGORICAL -----> HouseStyle =  8\n",
      "-----> CATEGORICAL -----> OverallQual =  10\n",
      "-----> CATEGORICAL -----> OverallCond =  9\n",
      "YearBuilt =  112\n",
      "YearRemodAdd =  61\n",
      "-----> CATEGORICAL -----> RoofStyle =  6\n",
      "-----> CATEGORICAL -----> RoofMatl =  8\n",
      "-----> CATEGORICAL -----> Exterior1st =  15\n",
      "-----> CATEGORICAL -----> Exterior2nd =  16\n",
      "-----> CATEGORICAL -----> MasVnrType =  5\n",
      "MasVnrArea =  328\n",
      "-----> CATEGORICAL -----> ExterQual =  4\n",
      "-----> CATEGORICAL -----> ExterCond =  5\n",
      "-----> CATEGORICAL -----> Foundation =  6\n",
      "-----> CATEGORICAL -----> BsmtQual =  5\n",
      "-----> CATEGORICAL -----> BsmtCond =  5\n",
      "-----> CATEGORICAL -----> BsmtExposure =  5\n",
      "-----> CATEGORICAL -----> BsmtFinType1 =  7\n",
      "BsmtFinSF1 =  637\n",
      "-----> CATEGORICAL -----> BsmtFinType2 =  7\n",
      "BsmtFinSF2 =  144\n",
      "BsmtUnfSF =  780\n",
      "TotalBsmtSF =  721\n",
      "-----> CATEGORICAL -----> Heating =  6\n",
      "-----> CATEGORICAL -----> HeatingQC =  5\n",
      "-----> CATEGORICAL -----> CentralAir =  2\n",
      "-----> CATEGORICAL -----> Electrical =  6\n",
      "1stFlrSF =  753\n",
      "2ndFlrSF =  417\n",
      "LowQualFinSF =  24\n",
      "GrLivArea =  861\n",
      "-----> CATEGORICAL -----> BsmtFullBath =  4\n",
      "-----> CATEGORICAL -----> BsmtHalfBath =  3\n",
      "-----> CATEGORICAL -----> FullBath =  4\n",
      "-----> CATEGORICAL -----> HalfBath =  3\n",
      "-----> CATEGORICAL -----> BedroomAbvGr =  8\n",
      "-----> CATEGORICAL -----> KitchenAbvGr =  4\n",
      "-----> CATEGORICAL -----> KitchenQual =  4\n",
      "-----> CATEGORICAL -----> TotRmsAbvGrd =  12\n",
      "-----> CATEGORICAL -----> Functional =  7\n",
      "-----> CATEGORICAL -----> Fireplaces =  4\n",
      "-----> CATEGORICAL -----> FireplaceQu =  6\n",
      "-----> CATEGORICAL -----> GarageType =  7\n",
      "GarageYrBlt =  98\n",
      "-----> CATEGORICAL -----> GarageFinish =  4\n",
      "-----> CATEGORICAL -----> GarageCars =  5\n",
      "GarageArea =  441\n",
      "-----> CATEGORICAL -----> GarageQual =  6\n",
      "-----> CATEGORICAL -----> GarageCond =  6\n",
      "-----> CATEGORICAL -----> PavedDrive =  3\n",
      "WoodDeckSF =  274\n",
      "OpenPorchSF =  202\n",
      "EnclosedPorch =  120\n",
      "-----> CATEGORICAL -----> 3SsnPorch =  20\n",
      "ScreenPorch =  76\n",
      "-----> CATEGORICAL -----> PoolArea =  8\n",
      "-----> CATEGORICAL -----> PoolQC =  4\n",
      "-----> CATEGORICAL -----> Fence =  5\n",
      "-----> CATEGORICAL -----> MiscFeature =  5\n",
      "MiscVal =  21\n",
      "-----> CATEGORICAL -----> MoSold =  12\n",
      "-----> CATEGORICAL -----> YrSold =  5\n",
      "-----> CATEGORICAL -----> SaleType =  9\n",
      "-----> CATEGORICAL -----> SaleCondition =  6\n",
      "SalePrice =  663\n"
     ]
    }
   ],
   "source": [
    "print('number of unique values in col :')\n",
    "for c in df.columns:\n",
    "    unique = len(df[c].unique())\n",
    "    if (unique <= 20):\n",
    "        print('-----> CATEGORICAL -----> ', end='')\n",
    "    print(c,'= ', unique)"
   ]
  },
  {
   "cell_type": "code",
   "execution_count": 9,
   "id": "473a08dc",
   "metadata": {},
   "outputs": [
    {
     "data": {
      "text/plain": [
       "Id               False\n",
       "MSSubClass       False\n",
       "MSZoning         False\n",
       "LotFrontage       True\n",
       "LotArea          False\n",
       "                 ...  \n",
       "MoSold           False\n",
       "YrSold           False\n",
       "SaleType         False\n",
       "SaleCondition    False\n",
       "SalePrice        False\n",
       "Length: 81, dtype: bool"
      ]
     },
     "execution_count": 9,
     "metadata": {},
     "output_type": "execute_result"
    }
   ],
   "source": [
    "df.isnull().any()"
   ]
  },
  {
   "cell_type": "code",
   "execution_count": 10,
   "id": "59d3459d",
   "metadata": {},
   "outputs": [
    {
     "data": {
      "text/plain": [
       "Id               False\n",
       "MSSubClass       False\n",
       "MSZoning         False\n",
       "LotFrontage      False\n",
       "LotArea          False\n",
       "                 ...  \n",
       "MoSold           False\n",
       "YrSold           False\n",
       "SaleType         False\n",
       "SaleCondition    False\n",
       "SalePrice        False\n",
       "Length: 81, dtype: bool"
      ]
     },
     "execution_count": 10,
     "metadata": {},
     "output_type": "execute_result"
    }
   ],
   "source": [
    "df = df\n",
    "for c in df.columns:\n",
    "    if np.issubdtype(df[c].dtype, np.number):\n",
    "        df = df.fillna(df[c].mean())\n",
    "    else:\n",
    "        mode_value = df[c].mode()[0]\n",
    "        df = df.fillna(mode_value) # preprocessed df\n",
    "df.isnull().any()"
   ]
  },
  {
   "cell_type": "code",
   "execution_count": 12,
   "id": "29703665",
   "metadata": {
    "scrolled": false
   },
   "outputs": [
    {
     "data": {
      "image/png": "[encoded data removed]",
      "text/plain": [
       "<Figure size 720x432 with 1 Axes>"
      ]
     },
     "metadata": {
      "needs_background": "light"
     },
     "output_type": "display_data"
    },
    {
     "name": "stdout",
     "output_type": "stream",
     "text": [
      "The correlation between MSSubClass and SalePrice is: -0.08\n"
     ]
    }
   ],
   "source": [
    "barPlot(df, 'MSSubClass')\n",
    "correlation(df, 'MSSubClass', 'SalePrice')"
   ]
  },
  {
   "cell_type": "markdown",
   "id": "2eb2db38",
   "metadata": {},
   "source": [
    "The \"MSSubClass\" feature represents the building class of each row. To understand its importance, we begin by loading the dataset using the pandas library. Then, we explore the distribution of the \"MSSubClass\" feature by counting the occurrences of each building class using the value_counts() function.\n",
    "\n",
    "Next, we plot the distribution of the \"MSSubClass\" feature using a bar chart to visualize the frequency of each class. This helps us understand the distribution.\n",
    "\n",
    "Finally, we analyze the importance of the \"MSSubClass\" feature by grouping the dataset by building class and calculating the median and mean sale price for each class using the groupby(), mean() and median() methods. The resulting median and mean sale prices are sorted in descending order to identify any notable differences between the building classes.\n",
    "\n",
    "By examining the distribution, mean and median sale prices of different building classes, we can gain insights into the importance of the \"MSSubClass\" feature. It helps us understand how the architectural style or type of dwelling influences the prices of houses in the Ames housing market. \n",
    "\n",
    "As we can see, both mean and median values are highest when \"MSSubClassh\" equals 60 or 120 and lowest when it equals 180 or 30. This means \"2-STORY 1946 & NEWER\" or \"1-STORY PUD (Planned Unit Development) - 1946 & NEWER\" are more valuable but \"PUD - MULTILEVEL - INCL SPLIT LEV/FOYER\" and \"1-STORY 1945 & OLDER\" are less.\n",
    "\n",
    "This information can be valuable for various purposes, such as real estate market analysis, property valuation, and predicting house prices based on building class characteristics."
   ]
  },
  {
   "cell_type": "markdown",
   "id": "743a3661",
   "metadata": {},
   "source": [
    "## overall quality"
   ]
  },
  {
   "cell_type": "code",
   "execution_count": 13,
   "id": "9cc525bd",
   "metadata": {},
   "outputs": [
    {
     "data": {
      "image/png": "[encoded data removed]",
      "text/plain": [
       "<Figure size 720x432 with 1 Axes>"
      ]
     },
     "metadata": {
      "needs_background": "light"
     },
     "output_type": "display_data"
    }
   ],
   "source": [
    "barPlot(df, 'OverallQual')"
   ]
  },
  {
   "cell_type": "code",
   "execution_count": 15,
   "id": "a2208ab6",
   "metadata": {},
   "outputs": [
    {
     "data": {
      "image/png": "[encoded data removed]",
      "text/plain": [
       "<Figure size 720x432 with 1 Axes>"
      ]
     },
     "metadata": {
      "needs_background": "light"
     },
     "output_type": "display_data"
    },
    {
     "name": "stdout",
     "output_type": "stream",
     "text": [
      "The correlation between OverallQual and SalePrice is: 0.79\n"
     ]
    }
   ],
   "source": [
    "boxPlot(df, 'OverallQual', 'SalePrice')\n",
    "correlation(df, 'OverallQual', 'SalePrice')"
   ]
  },
  {
   "cell_type": "code",
   "execution_count": 16,
   "id": "e496a365",
   "metadata": {},
   "outputs": [
    {
     "name": "stdout",
     "output_type": "stream",
     "text": [
      "             count           mean            std       min       25%  \\\n",
      "OverallQual                                                            \n",
      "1              2.0   50150.000000   15344.217152   39300.0   44725.0   \n",
      "2              3.0   51770.333333   14254.200796   35311.0   47655.5   \n",
      "3             20.0   87473.750000   24688.567399   37900.0   75500.0   \n",
      "4            116.0  108420.655172   29022.003886   34900.0   88000.0   \n",
      "5            397.0  133523.347607   27107.330927   55993.0  118000.0   \n",
      "6            374.0  161603.034759   36090.182933   76000.0  139125.0   \n",
      "7            319.0  207716.423197   44466.259414   82500.0  179470.0   \n",
      "8            168.0  274735.535714   63898.902253  122000.0  234557.5   \n",
      "9             43.0  367513.023256   81278.174849  239000.0  318980.5   \n",
      "10            18.0  438588.388889  159785.491058  160000.0  349375.0   \n",
      "\n",
      "                  50%       75%       max  \n",
      "OverallQual                                \n",
      "1             50150.0   55575.0   61000.0  \n",
      "2             60000.0   60000.0   60000.0  \n",
      "3             86250.0   97500.0  139600.0  \n",
      "4            108000.0  125500.0  256000.0  \n",
      "5            133000.0  147000.0  228950.0  \n",
      "6            160000.0  181000.0  277000.0  \n",
      "7            200141.0  230750.0  383970.0  \n",
      "8            269750.0  306250.0  538000.0  \n",
      "9            345000.0  389716.0  611657.0  \n",
      "10           432390.0  472875.0  755000.0  \n",
      "\n",
      "Mean SalePrice by OverallQual:\n",
      "OverallQual\n",
      "10    438588.388889\n",
      "9     367513.023256\n",
      "8     274735.535714\n",
      "7     207716.423197\n",
      "6     161603.034759\n",
      "5     133523.347607\n",
      "4     108420.655172\n",
      "3      87473.750000\n",
      "2      51770.333333\n",
      "1      50150.000000\n",
      "Name: SalePrice, dtype: float64\n",
      "\n",
      "Median SalePrice by OverallQual:\n",
      "OverallQual\n",
      "10    432390.0\n",
      "9     345000.0\n",
      "8     269750.0\n",
      "7     200141.0\n",
      "6     160000.0\n",
      "5     133000.0\n",
      "4     108000.0\n",
      "3      86250.0\n",
      "2      60000.0\n",
      "1      50150.0\n",
      "Name: SalePrice, dtype: float64\n"
     ]
    }
   ],
   "source": [
    "describe_data_based_on_target(df, 'OverallQual', 'SalePrice')"
   ]
  },
  {
   "cell_type": "markdown",
   "id": "e1017a4c",
   "metadata": {},
   "source": [
    "We perform exploratory data analysis (EDA) on the dataset. We calculate summary statistics such as count, mean, standard deviation, minimum, and maximum sale prices for each overall quality category using groupby() and describe(). This gives us an overview of the distribution of sale prices based on different overall quality levels.\n",
    "\n",
    "To visualize the relationship between overall quality and sale price, we create a box plot using sns.boxplot() from seaborn. This plot shows the median, quartiles, and outliers of the sale prices for each category of overall quality. The x-axis represents the overall quality levels, and the y-axis represents the sale prices.\n",
    "\n",
    "Finally, we calculate the person correlation coefficient between overall quality and sale price using corr() function from pandas. The correlation coefficient ranges from -1 to 1 and displays the strength and direction of the linear relationship between the two variables. A positive correlation indicates that as overall quality increases, the sale price tends to increase as well."
   ]
  },
  {
   "cell_type": "markdown",
   "id": "12f20bac",
   "metadata": {},
   "source": [
    "# 1st test:"
   ]
  },
  {
   "cell_type": "code",
   "execution_count": 17,
   "id": "5ed96268",
   "metadata": {},
   "outputs": [
    {
     "name": "stdout",
     "output_type": "stream",
     "text": [
      "stat=11.905, p=0.003\n",
      "Probably not Gaussian\n"
     ]
    }
   ],
   "source": [
    "stat, p = stats.normaltest(df['OverallQual'])\n",
    "print('stat=%.3f, p=%.3f' % (stat, p))\n",
    "if p > 0.05:\n",
    "    print('Probably Gaussian')\n",
    "else:\n",
    "    print('Probably not Gaussian')"
   ]
  },
  {
   "cell_type": "markdown",
   "id": "a9b63bec",
   "metadata": {},
   "source": [
    "This is an analysis of the normality of a variable using a normality test. The variable under consideration is 'OverallQual' from the given DataFrame. The normality test used in this analysis is the normaltest from the scipy.stats module.\n",
    "\n",
    "The normaltest calculates a statistic and p-value to assess whether the variable follows a Gaussian (normal) distribution. In this analysis, the normaltest was conducted on the 'OverallQual' variable, resulting in a statistic value of 11.9 and a p-value of 0.003.\n",
    "\n",
    "To interpret the results, the p-value is compared to a significance level (commonly chosen as 0.05). If the p-value is greater than the significance level, it suggests that the variable is likely to follow a Gaussian distribution. On the other hand, if the p-value is less than the significance level, it indicates that the variable is probably not Gaussian.\n",
    "\n",
    "For the given dataset, the normaltest resulted in a p-value of 0.003. Since the p-value is greater than the significance level, we cannot conclude that the 'OverallQual' variable is normally distributed.\n",
    "\n",
    "It is important to note that deviations from normality may affect the validity of certain statistical tests and assumptions. Thus, it is essential to consider the normality of the variable when selecting appropriate statistical techniques and interpreting the results."
   ]
  },
  {
   "cell_type": "markdown",
   "id": "67e96727",
   "metadata": {},
   "source": [
    "## heating"
   ]
  },
  {
   "cell_type": "code",
   "execution_count": 18,
   "id": "ae344f6a",
   "metadata": {},
   "outputs": [
    {
     "data": {
      "image/png": "[encoded data removed]",
      "text/plain": [
       "<Figure size 720x432 with 1 Axes>"
      ]
     },
     "metadata": {
      "needs_background": "light"
     },
     "output_type": "display_data"
    }
   ],
   "source": [
    "barPlot(df, 'Heating')"
   ]
  },
  {
   "cell_type": "markdown",
   "id": "f093d6bb",
   "metadata": {},
   "source": [
    "# 2nd test:"
   ]
  },
  {
   "cell_type": "code",
   "execution_count": 19,
   "id": "204887e8",
   "metadata": {
    "scrolled": false
   },
   "outputs": [
    {
     "data": {
      "image/png": "[encoded data removed]",
      "text/plain": [
       "<Figure size 720x432 with 1 Axes>"
      ]
     },
     "metadata": {
      "needs_background": "light"
     },
     "output_type": "display_data"
    },
    {
     "name": "stdout",
     "output_type": "stream",
     "text": [
      "                  sum_sq      df         F    PR(>F)\n",
      "C(Heating)  1.329359e+11     5.0  4.259819  0.000753\n",
      "Residual    9.074975e+12  1454.0       NaN       NaN\n"
     ]
    }
   ],
   "source": [
    "boxPlot(df, 'Heating', 'SalePrice')\n",
    "\n",
    "\n",
    "import statsmodels.api as sm\n",
    "from statsmodels.formula.api import ols\n",
    "\n",
    "# Fit the ANOVA model\n",
    "model = ols('SalePrice ~ C(Heating)', data=df).fit()\n",
    "\n",
    "# Perform ANOVA\n",
    "anova_table = sm.stats.anova_lm(model, typ=2)\n",
    "\n",
    "# Print the ANOVA table\n",
    "print(anova_table)"
   ]
  },
  {
   "cell_type": "markdown",
   "id": "531e3936",
   "metadata": {},
   "source": [
    "This is an analysis of the effect of different heating types on sale prices using an ANOVA (Analysis of Variance) test. To begin the analysis, a box plot was created to visualize the distribution of sale prices across different heating types. The box plot provides insights into the central tendency, variability, and potential outliers within each heating category.\n",
    "\n",
    "Following the exploratory visualization, an ANOVA model was fitted to assess whether the heating types have a significant impact on sale prices. The ANOVA model was constructed using the `ols` function from the `statsmodels.formula.api` module. The formula 'SalePrice ~ C(Heating)' specifies that the sale price is the dependent variable, while 'Heating' is treated as a categorical independent variable.\n",
    "\n",
    "The ANOVA test was then performed using the `anova_lm` function from the `statsmodels.api` module. This test generates an ANOVA table, which provides statistical metrics such as the sum of squares, degrees of freedom, F-statistic, and associated p-values. These metrics allow us to evaluate the significance of the differences in means among the heating types.\n",
    "\n",
    "The sum of squares (sum_sq) for the variable \"Heating\" is 1.329359e+11, indicating the amount of variability explained by the different types of heating.\n",
    "\n",
    "The degrees of freedom (df) for \"Heating\" is 5, which represents the number of categories within the variable.\n",
    "\n",
    "The F-statistic (F) is 4.259819, which is the ratio of between-group variability to within-group variability. It measures the significance of the differences among the means of the different heating types.\n",
    "\n",
    "The p-value (PR(>F)) for \"Heating\" is 0.000753, which is below the typical significance level of 0.05. This indicates that there is strong evidence to reject the null hypothesis and conclude that there is a statistically significant effect of the different types of heating on sale prices.\n",
    "\n",
    "The sum of squares (sum_sq) and degrees of freedom (df) for the residual term (Residual) represent the variability that is not explained by the \"Heating\" variable.\n",
    "\n",
    "In summary, the ANOVA test suggests that there is a significant effect of the different types of heating on sale prices in the housing dataset you analyzed."
   ]
  },
  {
   "cell_type": "markdown",
   "id": "492ddc6a",
   "metadata": {},
   "source": [
    "## GrLivArea"
   ]
  },
  {
   "cell_type": "code",
   "execution_count": 28,
   "id": "d6c882e6",
   "metadata": {},
   "outputs": [
    {
     "data": {
      "image/png": "[encoded data removed]",
      "text/plain": [
       "<Figure size 720x432 with 1 Axes>"
      ]
     },
     "metadata": {
      "needs_background": "light"
     },
     "output_type": "display_data"
    }
   ],
   "source": [
    "plot(df, 'GrLivArea')"
   ]
  },
  {
   "cell_type": "markdown",
   "id": "2e91594f",
   "metadata": {},
   "source": [
    "# 3rd test:"
   ]
  },
  {
   "cell_type": "code",
   "execution_count": 30,
   "id": "8125ad7f",
   "metadata": {
    "scrolled": false
   },
   "outputs": [
    {
     "name": "stdout",
     "output_type": "stream",
     "text": [
      "0.7086244776126521 4.518033646779944e-223\n",
      "Probably dependent\n"
     ]
    }
   ],
   "source": [
    "from scipy.stats import pearsonr\n",
    "data1 = df['SalePrice']\n",
    "data2 = df['GrLivArea']\n",
    "\n",
    "stat, p = pearsonr(data1, data2)\n",
    "print(stat,p)\n",
    "if p > 0.05:\n",
    "\tprint('Probably independent')\n",
    "else:\n",
    "\tprint('Probably dependent')"
   ]
  },
  {
   "cell_type": "markdown",
   "id": "5292eb8a",
   "metadata": {},
   "source": [
    "In this analysis, we investigated the potential relationship between the sale price of properties and their corresponding Above grade (ground) living area square feet.\n",
    "\n",
    "To assess the strength and significance of the relationship, we employed the Pearson correlation coefficient and conducted a hypothesis test. The Pearson correlation coefficient measures the linear association between two variables, ranging from -1 to 1, where values close to 1 indicate a strong positive correlation, values close to -1 indicate a strong negative correlation, and values close to 0 suggest a weak or no linear correlation.\n",
    "\n",
    "Our analysis revealed a correlation coefficient of 0.70 between the sale price and GrLivArea. The corresponding p-value was calculated as $10^{-223}$, which is commonly used to determine the statistical significance of the relationship. \n",
    "\n",
    "Based on our hypothesis test, we found that the p-value is less than the significance level of 0.05. Therefore, we reject the null hypothesis that the sale price and GrLivArea are independent. Consequently, we conclude that there is likely a significant relationship between the sale price and GrLivArea."
   ]
  },
  {
   "cell_type": "markdown",
   "id": "8a08024d",
   "metadata": {},
   "source": [
    "# 4th test:"
   ]
  },
  {
   "cell_type": "markdown",
   "id": "c73b7256",
   "metadata": {},
   "source": [
    "## the correlation of overall condition and construction date"
   ]
  },
  {
   "cell_type": "code",
   "execution_count": 31,
   "id": "ca64915a",
   "metadata": {},
   "outputs": [
    {
     "name": "stdout",
     "output_type": "stream",
     "text": [
      "-0.37598319560699034 3.090962045219238e-50\n",
      "Probably dependent\n"
     ]
    }
   ],
   "source": [
    "data1 = df['YearBuilt']\n",
    "data2 = df['OverallCond']\n",
    "\n",
    "stat, p = pearsonr(data1, data2)\n",
    "print(stat,p)\n",
    "if p > 0.05:\n",
    "\tprint('Probably independent')\n",
    "else:\n",
    "\tprint('Probably dependent')"
   ]
  },
  {
   "cell_type": "markdown",
   "id": "9b1a661e",
   "metadata": {},
   "source": [
    "This is an analysis of the potential relationship between the year a property was built and its overall condition. To ensure reliable results, any rows containing missing values in either of these columns were removed from the analysis.\n",
    "\n",
    "Based on our analysis, we obtained a correlation coefficient of -0.37 between the year built and the overall condition of the properties. The associated p-value was calculated as $10^{-50}$. The p-value is commonly used to determine the statistical significance of a relationship.\n",
    "\n",
    "Upon conducting a hypothesis test, we found that the p-value less than the significance level of 0.05. Therefore, we reject the null hypothesis that the year built and overall condition are independent. This indicates that there is likely a significant relationship between the year a property was built and its overall condition."
   ]
  },
  {
   "cell_type": "markdown",
   "id": "7d2f917c",
   "metadata": {},
   "source": [
    "# 5th test:"
   ]
  },
  {
   "cell_type": "markdown",
   "id": "1c017dec",
   "metadata": {},
   "source": [
    "## testing whether the price of houses in different neighboorhoods are significantly different"
   ]
  },
  {
   "cell_type": "code",
   "execution_count": 33,
   "id": "e8f7938f",
   "metadata": {
    "scrolled": false
   },
   "outputs": [
    {
     "name": "stdout",
     "output_type": "stream",
     "text": [
      "71.78486512058278 1.5586002827707996e-225\n",
      "Probably different distributions\n"
     ]
    }
   ],
   "source": [
    "# Group the DataFrame by the 'Neighborhood' column\n",
    "grouped = df.groupby('Neighborhood')\n",
    "\n",
    "\n",
    "stat, p = stats.f_oneway(*[group['SalePrice'] for _, group in grouped])\n",
    "\n",
    "print(stat, p)\n",
    "if p > 0.05:\n",
    "\tprint('Probably the same distribution')\n",
    "else:\n",
    "\tprint('Probably different distributions')"
   ]
  },
  {
   "cell_type": "markdown",
   "id": "bd0047c6",
   "metadata": {},
   "source": [
    "This is an analysis of the differences in means among different neighborhoods based on prices. The DataFrame was grouped based on the 'Neighborhood' column, and the mean values of the SalePrice were compared among the groups using an ANOVA (Analysis of Variance) test.\n",
    "\n",
    "The ANOVA test allows us to determine if there are significant differences in means among the groups. In this analysis, the F-statistic and corresponding p-value were calculated using the `f_oneway()` function from the `scipy.stats` module.\n",
    "\n",
    "For the given dataset, the ANOVA test resulted in an F-statistic of 71.78 and a p-value of $10^{-225}$. The F-statistic measures the ratio of between-group variability to within-group variability, while the p-value indicates the statistical significance of the observed differences in means.\n",
    "\n",
    "Based on the obtained results, if the p-value is less than the chosen significance level (usually 0.05), it suggests that there are significant differences in means among the groups. Conversely, if the p-value is greater than the significance level, it indicates that there is insufficient evidence to conclude that the means are different.\n",
    "\n",
    "In this analysis, the obtained p-value less than the significance level. Therefore, we reject the null hypothesis that the means of the target variable are the same among the groups. This implies that there is likely significant differences in means among the groups.\n",
    "\n",
    "It is important to note that the ANOVA test assumes certain assumptions, such as the normality of the data and equal variances among the groups. Violations of these assumptions may impact the validity of the results. Therefore, it is recommended to carefully assess the assumptions and consider additional analyses if necessary."
   ]
  }
 ],
 "metadata": {
  "kernelspec": {
   "display_name": "Python 3 (ipykernel)",
   "language": "python",
   "name": "python3"
  },
  "language_info": {
   "codemirror_mode": {
    "name": "ipython",
    "version": 3
   },
   "file_extension": ".py",
   "mimetype": "text/x-python",
   "name": "python",
   "nbconvert_exporter": "python",
   "pygments_lexer": "ipython3",
   "version": "3.10.5"
  }
 },
 "nbformat": 4,
 "nbformat_minor": 5
}
