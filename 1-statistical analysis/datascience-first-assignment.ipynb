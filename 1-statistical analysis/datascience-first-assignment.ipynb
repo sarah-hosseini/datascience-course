{
 "cells": [
  {
   "cell_type": "code",
   "execution_count": 1,
   "id": "04dcaadb",
   "metadata": {},
   "outputs": [],
   "source": [
    "def barPlot(df, feature):\n",
    "    # Exploration of this feature\n",
    "    subclasses = df[feature].value_counts()\n",
    "    \n",
    "    # Plotting the distribution of this feature\n",
    "    plt.figure(figsize=(10, 6))\n",
    "    plt.bar(subclasses.index, subclasses.values)\n",
    "    plt.xlabel(feature)\n",
    "    plt.ylabel('Count')\n",
    "    plt.title('Distribution of ' + feature)\n",
    "    plt.xticks(subclasses.index, subclasses.index)\n",
    "    plt.show()\n",
    "\n",
    "def plot(df, feature):\n",
    "    plt.figure(figsize=(10, 6))\n",
    "    sns.histplot(data=df, x=feature)\n",
    "    plt.xlabel(feature)\n",
    "    plt.ylabel('Frequency')\n",
    "    plt.title('Distribution of'+feature)\n",
    "    plt.show()\n",
    "\n",
    "def describe_data_based_on_target(df, feature, target):\n",
    "    \n",
    "    print(df.groupby(feature)[target].describe())\n",
    "\n",
    "    # Analyzing the importance of overall quality\n",
    "    class_targets_means = df.groupby(feature)[target].mean().sort_values(ascending=False)\n",
    "    class_targets_medians = df.groupby(feature)[target].median().sort_values(ascending=False)\n",
    "\n",
    "    print(\"\\nMean \"+target+\" by \"+feature+\":\")\n",
    "    print(class_targets_means)\n",
    "    print(\"\\nMedian \"+target+\" by \"+feature+\":\")\n",
    "    print(class_targets_medians)\n",
    "\n",
    "def boxPlot(df, feature, target):\n",
    "    # Plotting the relationship between building class and target\n",
    "    plt.figure(figsize=(10, 6))\n",
    "    sns.boxplot(x=feature, y=target, data=df)\n",
    "    plt.title(feature+' vs ' + target)\n",
    "    plt.xlabel(feature)\n",
    "    plt.ylabel(target)\n",
    "    plt.show()\n",
    "\n",
    "def correlation(df, feature, target):\n",
    "    # Correlation analysis\n",
    "    correlation = df[feature].corr(df[target])\n",
    "    print(f\"The correlation between {feature} and {target} is: {correlation:.2f}\")"
   ]
  },
  {
   "cell_type": "code",
   "execution_count": 2,
   "id": "f1c9067e",
   "metadata": {
    "scrolled": false
   },
   "outputs": [
    {
     "data": {
      "text/plain": [
       "Index(['Track URI', 'Track Name', 'Artist URI(s)', 'Artist Name(s)',\n",
       "       'Album URI', 'Album Name', 'Album Artist URI(s)',\n",
       "       'Album Artist Name(s)', 'Album Release Date', 'Album Image URL',\n",
       "       'Disc Number', 'Track Number', 'Track Duration (ms)',\n",
       "       'Track Preview URL', 'Explicit', 'Popularity', 'ISRC', 'Added By',\n",
       "       'Added At', 'Artist Genres', 'Danceability', 'Energy', 'Key',\n",
       "       'Loudness', 'Mode', 'Speechiness', 'Acousticness', 'Instrumentalness',\n",
       "       'Liveness', 'Valence', 'Tempo', 'Time Signature', 'Album Genres',\n",
       "       'Label', 'Copyrights'],\n",
       "      dtype='object')"
      ]
     },
     "execution_count": 2,
     "metadata": {},
     "output_type": "execute_result"
    }
   ],
   "source": [
    "import pandas as pd\n",
    "import numpy as np\n",
    "import matplotlib.pyplot as plt\n",
    "import seaborn as sns\n",
    "from sklearn.preprocessing import LabelEncoder\n",
    "import scipy.stats as stats\n",
    "\n",
    "\n",
    "df = pd.read_csv('top_10000_1960-now.csv')\n",
    "df.columns"
   ]
  },
  {
   "cell_type": "code",
   "execution_count": 3,
   "id": "48c85a9f",
   "metadata": {
    "scrolled": false
   },
   "outputs": [
    {
     "name": "stdout",
     "output_type": "stream",
     "text": [
      "number of unique values in col :\n",
      "Track URI =  9951\n",
      "Track Name =  8259\n",
      "Artist URI(s) =  4135\n",
      "Artist Name(s) =  4130\n",
      "Album URI =  7463\n",
      "Album Name =  6637\n",
      "Album Artist URI(s) =  3299\n",
      "Album Artist Name(s) =  3295\n",
      "Album Release Date =  3333\n",
      "Album Image URL =  7461\n",
      "-----> CATEGORICAL -----> Disc Number =  10\n",
      "Track Number =  57\n",
      "Track Duration (ms) =  7320\n",
      "Track Preview URL =  6890\n",
      "-----> CATEGORICAL -----> Explicit =  2\n",
      "Popularity =  99\n",
      "ISRC =  8949\n",
      "-----> CATEGORICAL -----> Added By =  1\n",
      "Added At =  609\n",
      "Artist Genres =  2816\n",
      "Danceability =  780\n",
      "Energy =  877\n",
      "-----> CATEGORICAL -----> Key =  13\n",
      "Loudness =  6330\n",
      "-----> CATEGORICAL -----> Mode =  3\n",
      "Speechiness =  1060\n",
      "Acousticness =  2747\n",
      "Instrumentalness =  3029\n",
      "Liveness =  1362\n",
      "Valence =  995\n",
      "Tempo =  8622\n",
      "-----> CATEGORICAL -----> Time Signature =  6\n",
      "-----> CATEGORICAL -----> Album Genres =  1\n",
      "Label =  1466\n",
      "Copyrights =  5379\n"
     ]
    }
   ],
   "source": [
    "print('number of unique values in col :')\n",
    "for c in df.columns:\n",
    "    unique = len(df[c].unique())\n",
    "    if (unique <= 20):\n",
    "        print('-----> CATEGORICAL -----> ', end='')\n",
    "    print(c,'= ', unique)"
   ]
  },
  {
   "cell_type": "code",
   "execution_count": 4,
   "id": "7bff5c23",
   "metadata": {
    "scrolled": false
   },
   "outputs": [],
   "source": [
    "# Check the number of unique values in each column\n",
    "unique_counts = df.nunique()\n",
    "# Get the columns with only one unique value\n",
    "single_value_columns = unique_counts[unique_counts <= 1].index\n",
    "\n",
    "# Delete the columns with a single value or no value\n",
    "df = df.drop(columns=single_value_columns)"
   ]
  },
  {
   "cell_type": "code",
   "execution_count": 5,
   "id": "46f30a54",
   "metadata": {
    "scrolled": false
   },
   "outputs": [
    {
     "data": {
      "text/plain": [
       "Track URI               False\n",
       "Track Name               True\n",
       "Artist URI(s)            True\n",
       "Artist Name(s)           True\n",
       "Album URI                True\n",
       "Album Name               True\n",
       "Album Artist URI(s)      True\n",
       "Album Artist Name(s)     True\n",
       "Album Release Date       True\n",
       "Album Image URL          True\n",
       "Disc Number             False\n",
       "Track Number            False\n",
       "Track Duration (ms)     False\n",
       "Track Preview URL        True\n",
       "Explicit                False\n",
       "Popularity              False\n",
       "ISRC                     True\n",
       "Added At                False\n",
       "Artist Genres            True\n",
       "Danceability             True\n",
       "Energy                   True\n",
       "Key                      True\n",
       "Loudness                 True\n",
       "Mode                     True\n",
       "Speechiness              True\n",
       "Acousticness             True\n",
       "Instrumentalness         True\n",
       "Liveness                 True\n",
       "Valence                  True\n",
       "Tempo                    True\n",
       "Time Signature           True\n",
       "Label                    True\n",
       "Copyrights               True\n",
       "dtype: bool"
      ]
     },
     "execution_count": 5,
     "metadata": {},
     "output_type": "execute_result"
    }
   ],
   "source": [
    "df.isnull().any()"
   ]
  },
  {
   "cell_type": "code",
   "execution_count": 6,
   "id": "16a93a1e",
   "metadata": {},
   "outputs": [
    {
     "data": {
      "text/plain": [
       "Track URI               False\n",
       "Track Name              False\n",
       "Artist URI(s)           False\n",
       "Artist Name(s)          False\n",
       "Album URI               False\n",
       "Album Name              False\n",
       "Album Artist URI(s)     False\n",
       "Album Artist Name(s)    False\n",
       "Album Release Date      False\n",
       "Album Image URL         False\n",
       "Disc Number             False\n",
       "Track Number            False\n",
       "Track Duration (ms)     False\n",
       "Track Preview URL       False\n",
       "Explicit                False\n",
       "Popularity              False\n",
       "ISRC                    False\n",
       "Added At                False\n",
       "Artist Genres           False\n",
       "Danceability            False\n",
       "Energy                  False\n",
       "Key                     False\n",
       "Loudness                False\n",
       "Mode                    False\n",
       "Speechiness             False\n",
       "Acousticness            False\n",
       "Instrumentalness        False\n",
       "Liveness                False\n",
       "Valence                 False\n",
       "Tempo                   False\n",
       "Time Signature          False\n",
       "Label                   False\n",
       "Copyrights              False\n",
       "dtype: bool"
      ]
     },
     "execution_count": 6,
     "metadata": {},
     "output_type": "execute_result"
    }
   ],
   "source": [
    "pdf = df\n",
    "for c in pdf.columns:\n",
    "    if np.issubdtype(pdf[c].dtype, np.number):\n",
    "        pdf = pdf.fillna(pdf[c].mean())\n",
    "    else:\n",
    "        mode_value = pdf[c].mode()[0]\n",
    "        pdf = pdf.fillna(mode_value) # preprocessed df\n",
    "pdf.isnull().any()"
   ]
  },
  {
   "cell_type": "code",
   "execution_count": 7,
   "id": "7390e084",
   "metadata": {
    "scrolled": false
   },
   "outputs": [],
   "source": [
    "for c in pdf.columns:\n",
    "    if np.issubdtype(pdf[c].dtype, np.number):\n",
    "        pdf = pdf[(np.abs(pdf[c] - pdf[c].mean()) / pdf[c].std()) < 3]  # Remove outliers"
   ]
  },
  {
   "cell_type": "code",
   "execution_count": 8,
   "id": "52b74812",
   "metadata": {
    "scrolled": false
   },
   "outputs": [
    {
     "data": {
      "image/png": "[encoded data removed]",
      "text/plain": [
       "<Figure size 720x432 with 1 Axes>"
      ]
     },
     "metadata": {
      "needs_background": "light"
     },
     "output_type": "display_data"
    }
   ],
   "source": [
    "plot(pdf, 'Popularity')"
   ]
  },
  {
   "cell_type": "code",
   "execution_count": 9,
   "id": "4b2c1aac",
   "metadata": {},
   "outputs": [
    {
     "data": {
      "image/png": "[encoded data removed]",
      "text/plain": [
       "<Figure size 720x432 with 1 Axes>"
      ]
     },
     "metadata": {
      "needs_background": "light"
     },
     "output_type": "display_data"
    }
   ],
   "source": [
    "plot(pdf, 'Loudness')"
   ]
  },
  {
   "cell_type": "code",
   "execution_count": 10,
   "id": "12d8ca5a",
   "metadata": {},
   "outputs": [
    {
     "data": {
      "image/png": "[encoded data removed]",
      "text/plain": [
       "<Figure size 720x432 with 1 Axes>"
      ]
     },
     "metadata": {
      "needs_background": "light"
     },
     "output_type": "display_data"
    }
   ],
   "source": [
    "plot(pdf, 'Energy')"
   ]
  },
  {
   "cell_type": "code",
   "execution_count": 11,
   "id": "087d1a90",
   "metadata": {},
   "outputs": [
    {
     "data": {
      "text/plain": [
       "Index(['Track URI', 'Track Name', 'Artist URI(s)', 'Artist Name(s)',\n",
       "       'Album URI', 'Album Name', 'Album Artist URI(s)',\n",
       "       'Album Artist Name(s)', 'Album Release Date', 'Album Image URL',\n",
       "       'Disc Number', 'Track Number', 'Track Duration (ms)',\n",
       "       'Track Preview URL', 'Explicit', 'Popularity', 'ISRC', 'Added At',\n",
       "       'Artist Genres', 'Danceability', 'Energy', 'Key', 'Loudness', 'Mode',\n",
       "       'Speechiness', 'Acousticness', 'Instrumentalness', 'Liveness',\n",
       "       'Valence', 'Tempo', 'Time Signature', 'Label', 'Copyrights'],\n",
       "      dtype='object')"
      ]
     },
     "execution_count": 11,
     "metadata": {},
     "output_type": "execute_result"
    }
   ],
   "source": [
    "pdf.columns"
   ]
  },
  {
   "cell_type": "markdown",
   "id": "4c43cab1",
   "metadata": {},
   "source": [
    "# 1st test"
   ]
  },
  {
   "cell_type": "code",
   "execution_count": 12,
   "id": "bc4922b9",
   "metadata": {},
   "outputs": [
    {
     "data": {
      "image/png": "[encoded data removed]",
      "text/plain": [
       "<Figure size 720x432 with 1 Axes>"
      ]
     },
     "metadata": {
      "needs_background": "light"
     },
     "output_type": "display_data"
    },
    {
     "name": "stdout",
     "output_type": "stream",
     "text": [
      "29.63618239672542 5.335591356204322e-08\n",
      "Probably different distributions\n"
     ]
    }
   ],
   "source": [
    "import scipy.stats as stats\n",
    "\n",
    "boxPlot(pdf, 'Explicit', 'Popularity')\n",
    "\n",
    "# Group the DataFrame by the 'Explicit' column\n",
    "grouped = df.groupby('Explicit')\n",
    "\n",
    "\n",
    "stat, p = stats.f_oneway(*[group['Popularity'] for _, group in grouped])\n",
    "\n",
    "print(stat, p)\n",
    "if p > 0.05:\n",
    "\tprint('Probably the same distribution')\n",
    "else:\n",
    "\tprint('Probably different distributions')"
   ]
  },
  {
   "cell_type": "markdown",
   "id": "fe1a3e58",
   "metadata": {},
   "source": [
    "This analysis focuses on examining the variances in mean values across different explicit states based on popularity. The DataFrame was grouped according to the 'Explicit' column, and the mean popularity values were compared between the groups using an ANOVA (Analysis of Variance) test.\n",
    "\n",
    "The purpose of the ANOVA test is to determine if there are significant differences in means among the groups. In this analysis, the F-statistic and its corresponding p-value were calculated using the `f_oneway()` function from the `scipy.stats` module.\n",
    "\n",
    "For the provided dataset, the ANOVA test yielded an F-statistic of 29.63 and a p-value of $10^{-08}$. The F-statistic measures the ratio of between-group variability to within-group variability, while the p-value indicates the statistical significance of the observed mean differences.\n",
    "\n",
    "Based on the results obtained, when the p-value is lower than the chosen significance level (typically 0.05), it suggests the presence of significant mean differences among the groups. Conversely, if the p-value exceeds the significance level, it indicates insufficient evidence to conclude that the means are different.\n",
    "\n",
    "In this analysis, the obtained p-value is smaller than the significance level. Consequently, we reject the null hypothesis that the means of the target variable are identical across the groups. This implies that there are likely significant mean differences among the groups."
   ]
  },
  {
   "cell_type": "markdown",
   "id": "ddbe7531",
   "metadata": {},
   "source": [
    "# 2nd test"
   ]
  },
  {
   "cell_type": "code",
   "execution_count": 13,
   "id": "73a32e6c",
   "metadata": {
    "scrolled": false
   },
   "outputs": [
    {
     "name": "stdout",
     "output_type": "stream",
     "text": [
      "0.03154605632573335 0.001881922743558978\n",
      "Probably dependent\n"
     ]
    }
   ],
   "source": [
    "from scipy.stats import pearsonr\n",
    "\n",
    "data1 = pdf['Loudness']\n",
    "data2 = pdf['Popularity']\n",
    "\n",
    "stat, p = pearsonr(data1, data2)\n",
    "print(stat,p)\n",
    "if p > 0.05:\n",
    "\tprint('Probably independent')\n",
    "else:\n",
    "\tprint('Probably dependent')"
   ]
  },
  {
   "cell_type": "markdown",
   "id": "b06cb47f",
   "metadata": {},
   "source": [
    "This is an analysis of the potential relationship between the a song's loudness and its popularity. Based on our analysis, we obtained a correlation coefficient of 0.03 between loudness and popularity. The associated p-value was calculated as 0.001. The p-value is commonly used to determine the statistical significance of a relationship.\n",
    "\n",
    "Upon conducting a hypothesis test, we found that the p-value less than the significance level of 0.05. Therefore, we reject the null hypothesis that the loudness and popularity are independent. This indicates that there is likely a significant relationship between loudness and popularity."
   ]
  },
  {
   "cell_type": "code",
   "execution_count": 14,
   "id": "1f1ee17e",
   "metadata": {
    "scrolled": false
   },
   "outputs": [
    {
     "data": {
      "image/png": "[encoded data removed]",
      "text/plain": [
       "<Figure size 720x432 with 1 Axes>"
      ]
     },
     "metadata": {
      "needs_background": "light"
     },
     "output_type": "display_data"
    },
    {
     "data": {
      "image/png": "[encoded data removed]",
      "text/plain": [
       "<Figure size 720x432 with 1 Axes>"
      ]
     },
     "metadata": {
      "needs_background": "light"
     },
     "output_type": "display_data"
    }
   ],
   "source": [
    "# Sort the DataFrame by the 'popularity' column in descending order\n",
    "sorted_songs_df = pdf.sort_values(by='Popularity', ascending=False)\n",
    "\n",
    "# Select the top 100 songs\n",
    "top_100_songs = sorted_songs_df.head(100)\n",
    "low_100_songs = sorted_songs_df.tail(100)\n",
    "plot(top_100_songs, 'Danceability')\n",
    "plot(low_100_songs, 'Danceability')"
   ]
  },
  {
   "cell_type": "markdown",
   "id": "c986af0e",
   "metadata": {},
   "source": [
    "# 3rd test"
   ]
  },
  {
   "cell_type": "code",
   "execution_count": 15,
   "id": "9861ba74",
   "metadata": {},
   "outputs": [
    {
     "name": "stdout",
     "output_type": "stream",
     "text": [
      "4.510846807225528 0.034921626321315485\n",
      "Probably different distributions\n"
     ]
    }
   ],
   "source": [
    "stat, p = stats.f_oneway(top_100_songs['Danceability'], low_100_songs['Danceability'])\n",
    "\n",
    "print(stat, p)\n",
    "if p > 0.05:\n",
    "\tprint('Probably the same distribution')\n",
    "else:\n",
    "\tprint('Probably different distributions')"
   ]
  },
  {
   "cell_type": "markdown",
   "id": "d1ffb01f",
   "metadata": {},
   "source": [
    "Here we focus on examining the variances in mean values across different top 100 and lowest 100 songs, based on Danceability. The DataFrame was grouped into more popular and less popular songs, and the mean Danceability values were compared between the groups using an ANOVA (Analysis of Variance) test.\n",
    "\n",
    "The ANOVA test yielded an F-statistic of 4.5 and a p-value of 0.03. Based on these results, since the obtained p-value is smaller than the significance level, we reject the null hypothesis that the means of the Danceability are identical across the groups. This implies that there are likely significant mean differences among the groups."
   ]
  },
  {
   "cell_type": "code",
   "execution_count": 16,
   "id": "3fc81627",
   "metadata": {
    "scrolled": false
   },
   "outputs": [
    {
     "data": {
      "image/png": "[encoded data removed]",
      "text/plain": [
       "<Figure size 720x432 with 1 Axes>"
      ]
     },
     "metadata": {
      "needs_background": "light"
     },
     "output_type": "display_data"
    },
    {
     "data": {
      "image/png": "[encoded data removed]",
      "text/plain": [
       "<Figure size 720x432 with 1 Axes>"
      ]
     },
     "metadata": {
      "needs_background": "light"
     },
     "output_type": "display_data"
    },
    {
     "name": "stdout",
     "output_type": "stream",
     "text": [
      "8287\n",
      "1419\n"
     ]
    }
   ],
   "source": [
    "# Group the data based on track number\n",
    "grouped_songs = pdf.groupby(pdf['Track Number'] < 10)\n",
    "\n",
    "# Access the group of songs with track numbers less than 10\n",
    "less_than_10_group = grouped_songs.get_group(True)\n",
    "\n",
    "# Access the group of songs with track numbers greater than or equal to 10\n",
    "greater_than_or_equal_to_10_group = grouped_songs.get_group(False)\n",
    "\n",
    "\n",
    "plot(less_than_10_group, 'Popularity')\n",
    "plot(greater_than_or_equal_to_10_group, 'Popularity')\n",
    "\n",
    "print(len(less_than_10_group))\n",
    "print(len(greater_than_or_equal_to_10_group))"
   ]
  },
  {
   "cell_type": "markdown",
   "id": "27e3b32a",
   "metadata": {},
   "source": [
    "# 4th test"
   ]
  },
  {
   "cell_type": "code",
   "execution_count": 17,
   "id": "b7f9d987",
   "metadata": {},
   "outputs": [
    {
     "data": {
      "image/png": "[encoded data removed]",
      "text/plain": [
       "<Figure size 720x432 with 1 Axes>"
      ]
     },
     "metadata": {
      "needs_background": "light"
     },
     "output_type": "display_data"
    },
    {
     "name": "stdout",
     "output_type": "stream",
     "text": [
      "0.026666057757115433 0.008607983016838017\n",
      "Probably dependent\n"
     ]
    }
   ],
   "source": [
    "plot(pdf, 'Track Duration (ms)')\n",
    "\n",
    "data1 = pdf['Track Duration (ms)']\n",
    "data2 = pdf['Popularity']\n",
    "\n",
    "stat, p = pearsonr(data1, data2)\n",
    "print(stat,p)\n",
    "if p > 0.05:\n",
    "\tprint('Probably independent')\n",
    "else:\n",
    "\tprint('Probably dependent')"
   ]
  },
  {
   "cell_type": "markdown",
   "id": "04be4069",
   "metadata": {},
   "source": [
    "# 5th test"
   ]
  },
  {
   "cell_type": "code",
   "execution_count": 18,
   "id": "c9f73a0d",
   "metadata": {},
   "outputs": [
    {
     "name": "stdout",
     "output_type": "stream",
     "text": [
      "307.1073482785617 2.05346188103975e-67\n",
      "Probably not Gaussian\n"
     ]
    }
   ],
   "source": [
    "from scipy.stats import normaltest\n",
    "data = pdf['Track Duration (ms)']\n",
    "stat, p = normaltest(data)\n",
    "print(stat, p)\n",
    "if p > 0.05:\n",
    "\tprint('Probably Gaussian')\n",
    "else:\n",
    "\tprint('Probably not Gaussian')"
   ]
  }
 ],
 "metadata": {
  "kernelspec": {
   "display_name": "Python 3 (ipykernel)",
   "language": "python",
   "name": "python3"
  },
  "language_info": {
   "codemirror_mode": {
    "name": "ipython",
    "version": 3
   },
   "file_extension": ".py",
   "mimetype": "text/x-python",
   "name": "python",
   "nbconvert_exporter": "python",
   "pygments_lexer": "ipython3",
   "version": "3.10.5"
  }
 },
 "nbformat": 4,
 "nbformat_minor": 5
}
